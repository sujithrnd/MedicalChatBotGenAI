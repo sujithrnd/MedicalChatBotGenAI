{
 "cells": [
  {
   "cell_type": "code",
   "execution_count": 3,
   "metadata": {},
   "outputs": [
    {
     "data": {
      "text/plain": [
       "'d:\\\\SUJITH_\\\\DataScience\\\\BAPPY_GenAI\\\\MedicalChatBotGenAI\\\\research'"
      ]
     },
     "execution_count": 3,
     "metadata": {},
     "output_type": "execute_result"
    }
   ],
   "source": [
    "%pwd"
   ]
  },
  {
   "cell_type": "code",
   "execution_count": 30,
   "metadata": {},
   "outputs": [],
   "source": [
    "from langchain.document_loaders import PyPDFLoader,DirectoryLoader\n",
    "from langchain.text_splitter import RecursiveCharacterTextSplitter\n",
    "from langchain.embeddings.huggingface import HuggingFaceBgeEmbeddings"
   ]
  },
  {
   "cell_type": "code",
   "execution_count": 5,
   "metadata": {},
   "outputs": [
    {
     "name": "stdout",
     "output_type": "stream",
     "text": [
      "d:\\SUJITH_\\DataScience\\BAPPY_GenAI\\MedicalChatBotGenAI\n"
     ]
    }
   ],
   "source": [
    "%cd  .."
   ]
  },
  {
   "cell_type": "code",
   "execution_count": 6,
   "metadata": {},
   "outputs": [],
   "source": [
    "#Extract data from pdf file \n",
    "def load_pdf_file(file):\n",
    "    loader=DirectoryLoader(file,        glob='*.pdf',    loader_cls=PyPDFLoader)\n",
    "    documents=loader.load()\n",
    "    return documents\n",
    "\n",
    "extracted_data=load_pdf_file(file='data/')\n"
   ]
  },
  {
   "cell_type": "code",
   "execution_count": 7,
   "metadata": {},
   "outputs": [
    {
     "data": {
      "text/plain": [
       "637"
      ]
     },
     "execution_count": 7,
     "metadata": {},
     "output_type": "execute_result"
    }
   ],
   "source": [
    "len(extracted_data)"
   ]
  },
  {
   "cell_type": "code",
   "execution_count": 19,
   "metadata": {},
   "outputs": [
    {
     "data": {
      "text/plain": [
       "list"
      ]
     },
     "execution_count": 19,
     "metadata": {},
     "output_type": "execute_result"
    }
   ],
   "source": [
    "type(extracted_data)"
   ]
  },
  {
   "cell_type": "code",
   "execution_count": 31,
   "metadata": {},
   "outputs": [],
   "source": [
    "#Split data into chunks\n",
    "def text_split(extracted_data):\n",
    "    text_splitter=RecursiveCharacterTextSplitter(chunk_size=500,chunk_overlap=20)\n",
    "    text_chunks=text_splitter.split_documents(extracted_data)\n",
    "    return text_chunks\n",
    "text_chunks=text_split(extracted_data)"
   ]
  },
  {
   "cell_type": "code",
   "execution_count": 21,
   "metadata": {},
   "outputs": [
    {
     "ename": "TypeError",
     "evalue": "object of type 'Document' has no len()",
     "output_type": "error",
     "traceback": [
      "\u001b[1;31m---------------------------------------------------------------------------\u001b[0m",
      "\u001b[1;31mTypeError\u001b[0m                                 Traceback (most recent call last)",
      "Cell \u001b[1;32mIn[21], line 1\u001b[0m\n\u001b[1;32m----> 1\u001b[0m \u001b[38;5;28mlen\u001b[39m(text_chunks[\u001b[38;5;241m0\u001b[39m])\n",
      "\u001b[1;31mTypeError\u001b[0m: object of type 'Document' has no len()"
     ]
    }
   ],
   "source": [
    "len(text_chunks)"
   ]
  },
  {
   "cell_type": "code",
   "execution_count": 25,
   "metadata": {},
   "outputs": [
    {
     "data": {
      "text/plain": [
       "'The GALE\\nENCYCLOPEDIA\\nof MEDICINE\\nSECOND EDITION'"
      ]
     },
     "execution_count": 25,
     "metadata": {},
     "output_type": "execute_result"
    }
   ],
   "source": [
    "type(text_chunks[0].page_content)\n",
    "text_chunks[0].page_content"
   ]
  },
  {
   "cell_type": "code",
   "execution_count": 34,
   "metadata": {},
   "outputs": [
    {
     "data": {
      "application/vnd.jupyter.widget-view+json": {
       "model_id": "ded0a2e25ec445a0a25161c53e5f561e",
       "version_major": 2,
       "version_minor": 0
      },
      "text/plain": [
       "Downloading .gitattributes:   0%|          | 0.00/1.23k [00:00<?, ?B/s]"
      ]
     },
     "metadata": {},
     "output_type": "display_data"
    },
    {
     "data": {
      "application/vnd.jupyter.widget-view+json": {
       "model_id": "0acd2afa028447d4ad1712708063d2be",
       "version_major": 2,
       "version_minor": 0
      },
      "text/plain": [
       "Downloading 1_Pooling/config.json:   0%|          | 0.00/190 [00:00<?, ?B/s]"
      ]
     },
     "metadata": {},
     "output_type": "display_data"
    },
    {
     "data": {
      "application/vnd.jupyter.widget-view+json": {
       "model_id": "68e37e0af17443909a0059fb8e182a01",
       "version_major": 2,
       "version_minor": 0
      },
      "text/plain": [
       "Downloading README.md:   0%|          | 0.00/10.7k [00:00<?, ?B/s]"
      ]
     },
     "metadata": {},
     "output_type": "display_data"
    },
    {
     "data": {
      "application/vnd.jupyter.widget-view+json": {
       "model_id": "f13fa58425ff4704b7c1fbb69d986a4b",
       "version_major": 2,
       "version_minor": 0
      },
      "text/plain": [
       "Downloading config.json:   0%|          | 0.00/612 [00:00<?, ?B/s]"
      ]
     },
     "metadata": {},
     "output_type": "display_data"
    },
    {
     "data": {
      "application/vnd.jupyter.widget-view+json": {
       "model_id": "0c57d93a962a44038c0cb6370e5955d1",
       "version_major": 2,
       "version_minor": 0
      },
      "text/plain": [
       "Downloading (…)ce_transformers.json:   0%|          | 0.00/116 [00:00<?, ?B/s]"
      ]
     },
     "metadata": {},
     "output_type": "display_data"
    },
    {
     "data": {
      "application/vnd.jupyter.widget-view+json": {
       "model_id": "33694be254d343f89b2a94c50454e4a7",
       "version_major": 2,
       "version_minor": 0
      },
      "text/plain": [
       "Downloading data_config.json:   0%|          | 0.00/39.3k [00:00<?, ?B/s]"
      ]
     },
     "metadata": {},
     "output_type": "display_data"
    },
    {
     "data": {
      "application/vnd.jupyter.widget-view+json": {
       "model_id": "f143bec9983e44d7b206bf53e1e36554",
       "version_major": 2,
       "version_minor": 0
      },
      "text/plain": [
       "Downloading model.safetensors:   0%|          | 0.00/90.9M [00:00<?, ?B/s]"
      ]
     },
     "metadata": {},
     "output_type": "display_data"
    },
    {
     "data": {
      "application/vnd.jupyter.widget-view+json": {
       "model_id": "19641320e42f4ca3885bb6d469229e6b",
       "version_major": 2,
       "version_minor": 0
      },
      "text/plain": [
       "Downloading model.onnx:   0%|          | 0.00/90.4M [00:00<?, ?B/s]"
      ]
     },
     "metadata": {},
     "output_type": "display_data"
    },
    {
     "data": {
      "application/vnd.jupyter.widget-view+json": {
       "model_id": "e3f41b1bc0424acc808940791a471dd2",
       "version_major": 2,
       "version_minor": 0
      },
      "text/plain": [
       "Downloading model_O1.onnx:   0%|          | 0.00/90.4M [00:00<?, ?B/s]"
      ]
     },
     "metadata": {},
     "output_type": "display_data"
    },
    {
     "data": {
      "application/vnd.jupyter.widget-view+json": {
       "model_id": "6efbb718daf04c0d83069ddd6d62ff18",
       "version_major": 2,
       "version_minor": 0
      },
      "text/plain": [
       "Downloading model_O2.onnx:   0%|          | 0.00/90.3M [00:00<?, ?B/s]"
      ]
     },
     "metadata": {},
     "output_type": "display_data"
    },
    {
     "data": {
      "application/vnd.jupyter.widget-view+json": {
       "model_id": "1d7893168ece4e84b9527d8455126445",
       "version_major": 2,
       "version_minor": 0
      },
      "text/plain": [
       "Downloading model_O3.onnx:   0%|          | 0.00/90.3M [00:00<?, ?B/s]"
      ]
     },
     "metadata": {},
     "output_type": "display_data"
    },
    {
     "data": {
      "application/vnd.jupyter.widget-view+json": {
       "model_id": "e99cddbfa01946bbbb31f7199a45a98c",
       "version_major": 2,
       "version_minor": 0
      },
      "text/plain": [
       "Downloading model_O4.onnx:   0%|          | 0.00/45.2M [00:00<?, ?B/s]"
      ]
     },
     "metadata": {},
     "output_type": "display_data"
    },
    {
     "data": {
      "application/vnd.jupyter.widget-view+json": {
       "model_id": "a804b7a2594e45218d1b39b2b0d38ed9",
       "version_major": 2,
       "version_minor": 0
      },
      "text/plain": [
       "Downloading model_qint8_arm64.onnx:   0%|          | 0.00/23.0M [00:00<?, ?B/s]"
      ]
     },
     "metadata": {},
     "output_type": "display_data"
    },
    {
     "data": {
      "application/vnd.jupyter.widget-view+json": {
       "model_id": "59eed0db6c934f4da1440ab00d9f8f4d",
       "version_major": 2,
       "version_minor": 0
      },
      "text/plain": [
       "Downloading (…)el_qint8_avx512.onnx:   0%|          | 0.00/23.0M [00:00<?, ?B/s]"
      ]
     },
     "metadata": {},
     "output_type": "display_data"
    },
    {
     "data": {
      "application/vnd.jupyter.widget-view+json": {
       "model_id": "b98f4a0f6c7e46b5bf4600a2e72d6231",
       "version_major": 2,
       "version_minor": 0
      },
      "text/plain": [
       "Downloading (…)nt8_avx512_vnni.onnx:   0%|          | 0.00/23.0M [00:00<?, ?B/s]"
      ]
     },
     "metadata": {},
     "output_type": "display_data"
    },
    {
     "data": {
      "application/vnd.jupyter.widget-view+json": {
       "model_id": "bb549f6ef804472d9209a3f710760f99",
       "version_major": 2,
       "version_minor": 0
      },
      "text/plain": [
       "Downloading model_quint8_avx2.onnx:   0%|          | 0.00/23.0M [00:00<?, ?B/s]"
      ]
     },
     "metadata": {},
     "output_type": "display_data"
    },
    {
     "data": {
      "application/vnd.jupyter.widget-view+json": {
       "model_id": "bd3e5075e6404967b21034e41d75908b",
       "version_major": 2,
       "version_minor": 0
      },
      "text/plain": [
       "Downloading openvino_model.bin:   0%|          | 0.00/90.3M [00:00<?, ?B/s]"
      ]
     },
     "metadata": {},
     "output_type": "display_data"
    },
    {
     "data": {
      "application/vnd.jupyter.widget-view+json": {
       "model_id": "33d12acaeac444eda8936618f6cdcb58",
       "version_major": 2,
       "version_minor": 0
      },
      "text/plain": [
       "Downloading (…)o/openvino_model.xml:   0%|          | 0.00/211k [00:00<?, ?B/s]"
      ]
     },
     "metadata": {},
     "output_type": "display_data"
    },
    {
     "data": {
      "application/vnd.jupyter.widget-view+json": {
       "model_id": "6bc0ec49f0f5499b8df29bf5b72ec8e9",
       "version_major": 2,
       "version_minor": 0
      },
      "text/plain": [
       "Downloading (…)_qint8_quantized.bin:   0%|          | 0.00/22.9M [00:00<?, ?B/s]"
      ]
     },
     "metadata": {},
     "output_type": "display_data"
    },
    {
     "data": {
      "application/vnd.jupyter.widget-view+json": {
       "model_id": "d3b70f8f5e3c4eafadb630841f8c1e38",
       "version_major": 2,
       "version_minor": 0
      },
      "text/plain": [
       "Downloading (…)_qint8_quantized.xml:   0%|          | 0.00/368k [00:00<?, ?B/s]"
      ]
     },
     "metadata": {},
     "output_type": "display_data"
    },
    {
     "data": {
      "application/vnd.jupyter.widget-view+json": {
       "model_id": "7d9d298c993649fb9806078d096c79cd",
       "version_major": 2,
       "version_minor": 0
      },
      "text/plain": [
       "Downloading pytorch_model.bin:   0%|          | 0.00/90.9M [00:00<?, ?B/s]"
      ]
     },
     "metadata": {},
     "output_type": "display_data"
    },
    {
     "data": {
      "application/vnd.jupyter.widget-view+json": {
       "model_id": "c16c7d13d8984388bdfd33a384678bab",
       "version_major": 2,
       "version_minor": 0
      },
      "text/plain": [
       "Downloading (…)nce_bert_config.json:   0%|          | 0.00/53.0 [00:00<?, ?B/s]"
      ]
     },
     "metadata": {},
     "output_type": "display_data"
    },
    {
     "data": {
      "application/vnd.jupyter.widget-view+json": {
       "model_id": "d33cd6bbb07d47cf8073424a899a2255",
       "version_major": 2,
       "version_minor": 0
      },
      "text/plain": [
       "Downloading (…)cial_tokens_map.json:   0%|          | 0.00/112 [00:00<?, ?B/s]"
      ]
     },
     "metadata": {},
     "output_type": "display_data"
    },
    {
     "data": {
      "application/vnd.jupyter.widget-view+json": {
       "model_id": "da98b1a4360742fcbc5361a1b17fba9c",
       "version_major": 2,
       "version_minor": 0
      },
      "text/plain": [
       "Downloading tokenizer.json:   0%|          | 0.00/466k [00:00<?, ?B/s]"
      ]
     },
     "metadata": {},
     "output_type": "display_data"
    },
    {
     "data": {
      "application/vnd.jupyter.widget-view+json": {
       "model_id": "ec05da29ef8c4736ab617ed95ab468b3",
       "version_major": 2,
       "version_minor": 0
      },
      "text/plain": [
       "Downloading tokenizer_config.json:   0%|          | 0.00/350 [00:00<?, ?B/s]"
      ]
     },
     "metadata": {},
     "output_type": "display_data"
    },
    {
     "data": {
      "application/vnd.jupyter.widget-view+json": {
       "model_id": "713a6bed5e43409c82974c398c5e4668",
       "version_major": 2,
       "version_minor": 0
      },
      "text/plain": [
       "Downloading train_script.py:   0%|          | 0.00/13.2k [00:00<?, ?B/s]"
      ]
     },
     "metadata": {},
     "output_type": "display_data"
    },
    {
     "data": {
      "application/vnd.jupyter.widget-view+json": {
       "model_id": "5a8c8924b2c54dcd85b323ef675c0608",
       "version_major": 2,
       "version_minor": 0
      },
      "text/plain": [
       "Downloading vocab.txt:   0%|          | 0.00/232k [00:00<?, ?B/s]"
      ]
     },
     "metadata": {},
     "output_type": "display_data"
    },
    {
     "data": {
      "application/vnd.jupyter.widget-view+json": {
       "model_id": "70d48bd5469a465fa9afc6e8d0f85aa6",
       "version_major": 2,
       "version_minor": 0
      },
      "text/plain": [
       "Downloading modules.json:   0%|          | 0.00/349 [00:00<?, ?B/s]"
      ]
     },
     "metadata": {},
     "output_type": "display_data"
    },
    {
     "name": "stderr",
     "output_type": "stream",
     "text": [
      "c:\\Users\\91890\\anaconda3\\Lib\\site-packages\\transformers\\utils\\generic.py:260: FutureWarning: `torch.utils._pytree._register_pytree_node` is deprecated. Please use `torch.utils._pytree.register_pytree_node` instead.\n",
      "  torch.utils._pytree._register_pytree_node(\n"
     ]
    }
   ],
   "source": [
    "#vector embedding\n",
    "def download_hugging_face_embeddings():\n",
    "  embedding=HuggingFaceBgeEmbeddings(model_name='sentence-transformers/all-MiniLM-L6-v2')# 384 diamensional vector - https://huggingface.co/sentence-transformers/all-MiniLM-L6-v2\n",
    "  return embedding\n",
    "embedding=download_hugging_face_embeddings()\n"
   ]
  },
  {
   "cell_type": "code",
   "execution_count": 38,
   "metadata": {},
   "outputs": [
    {
     "name": "stdout",
     "output_type": "stream",
     "text": [
      " length of sample vector embedding  384\n"
     ]
    },
    {
     "data": {
      "text/plain": [
       "[-0.04819633811712265,\n",
       " 0.15012630820274353,\n",
       " 0.021478408947587013,\n",
       " -0.0044724466279149055,\n",
       " -0.04288671165704727,\n",
       " -0.021710975095629692,\n",
       " 0.02975575067102909,\n",
       " -0.03278796747326851,\n",
       " -0.007388236466795206,\n",
       " 0.01123051904141903,\n",
       " 0.09345773607492447,\n",
       " -0.03344658762216568,\n",
       " 0.015225041657686234,\n",
       " -0.060943469405174255,\n",
       " 0.11529836803674698,\n",
       " -0.027648624032735825,\n",
       " -0.014623572118580341,\n",
       " 0.014753407798707485,\n",
       " -0.08076632767915726,\n",
       " -0.10180769860744476,\n",
       " 0.06451240181922913,\n",
       " 0.09679209440946579,\n",
       " -0.0012804794823750854,\n",
       " -0.052918437868356705,\n",
       " -0.04407312721014023,\n",
       " 0.009784083813428879,\n",
       " 0.0390218086540699,\n",
       " 0.025619475170969963,\n",
       " 0.1521606147289276,\n",
       " -0.013859405182301998,\n",
       " -0.042430516332387924,\n",
       " 0.0005080864066258073,\n",
       " 0.054551225155591965,\n",
       " 0.013029119931161404,\n",
       " -0.020575538277626038,\n",
       " 0.07575448602437973,\n",
       " 0.0007773303077556193,\n",
       " -0.028798870742321014,\n",
       " 0.040226567536592484,\n",
       " -0.08949121087789536,\n",
       " 0.02399080991744995,\n",
       " -0.04085077717900276,\n",
       " -0.038974881172180176,\n",
       " -0.048499222844839096,\n",
       " -0.03823549672961235,\n",
       " -0.053818173706531525,\n",
       " -0.10937751829624176,\n",
       " 0.028117356821894646,\n",
       " -0.010556031949818134,\n",
       " -0.04830363020300865,\n",
       " -0.15242278575897217,\n",
       " -0.035670507699251175,\n",
       " 0.0009574584546498954,\n",
       " 0.008888620883226395,\n",
       " 0.021252930164337158,\n",
       " -0.038440752774477005,\n",
       " -0.06595493853092194,\n",
       " 2.489915686965105e-06,\n",
       " 0.033941492438316345,\n",
       " -0.03295105695724487,\n",
       " -0.033424969762563705,\n",
       " 0.037574078887701035,\n",
       " -0.04443171247839928,\n",
       " 0.042544733732938766,\n",
       " 0.1097370907664299,\n",
       " -0.09890852868556976,\n",
       " 0.003868886036798358,\n",
       " 0.03141285479068756,\n",
       " -0.050566911697387695,\n",
       " 0.02024242654442787,\n",
       " -0.07837218791246414,\n",
       " 0.01719098910689354,\n",
       " -0.03000759892165661,\n",
       " -0.010834441520273685,\n",
       " -0.12674815952777863,\n",
       " -0.0667397603392601,\n",
       " 0.006822549272328615,\n",
       " -0.05837070941925049,\n",
       " -0.05860346555709839,\n",
       " -0.02659502625465393,\n",
       " 0.06358662992715836,\n",
       " 0.03545986860990524,\n",
       " 0.09737282246351242,\n",
       " 0.03909016773104668,\n",
       " -0.018314510583877563,\n",
       " 0.0315297432243824,\n",
       " 0.037114668637514114,\n",
       " -0.044102054089307785,\n",
       " 0.030949190258979797,\n",
       " -0.0035902992822229862,\n",
       " -0.028974106535315514,\n",
       " -0.0872703567147255,\n",
       " 0.012738007120788097,\n",
       " 0.011211786419153214,\n",
       " -0.019482523202896118,\n",
       " 0.047708768397569656,\n",
       " 0.031116489320993423,\n",
       " 0.04701821133494377,\n",
       " 0.03204895928502083,\n",
       " 0.0858844444155693,\n",
       " 0.08263756334781647,\n",
       " 0.03824305161833763,\n",
       " 0.09750709682703018,\n",
       " 0.03106616996228695,\n",
       " -0.027844950556755066,\n",
       " -0.00758384820073843,\n",
       " -0.06967424601316452,\n",
       " 0.05830968916416168,\n",
       " -0.016860730946063995,\n",
       " -0.0290431696921587,\n",
       " -0.09297006577253342,\n",
       " -0.07292941957712173,\n",
       " -0.0682472512125969,\n",
       " -0.08902676403522491,\n",
       " 0.05152392014861107,\n",
       " -0.04338638111948967,\n",
       " 0.04186956584453583,\n",
       " 0.051276154816150665,\n",
       " -0.07630641758441925,\n",
       " -0.0033412000630050898,\n",
       " -0.027167566120624542,\n",
       " 0.023067915812134743,\n",
       " -0.004353940486907959,\n",
       " 0.02411462925374508,\n",
       " -0.02092718333005905,\n",
       " -0.019387606531381607,\n",
       " -0.04375661537051201,\n",
       " 2.31015749210903e-34,\n",
       " 0.08500342071056366,\n",
       " 0.01255681924521923,\n",
       " 0.010110192932188511,\n",
       " -0.01085135992616415,\n",
       " -0.033359795808792114,\n",
       " -0.05347704142332077,\n",
       " -0.037950221449136734,\n",
       " 0.044463884085416794,\n",
       " -0.020633559674024582,\n",
       " 0.039405714720487595,\n",
       " 0.011222431436181068,\n",
       " 0.009743715636432171,\n",
       " -0.004733479116111994,\n",
       " -0.039888232946395874,\n",
       " -0.011786729097366333,\n",
       " -0.052864786237478256,\n",
       " -0.08526435494422913,\n",
       " 0.013607234694063663,\n",
       " -0.014954415149986744,\n",
       " 0.038773611187934875,\n",
       " 0.008135184645652771,\n",
       " -0.045303355902433395,\n",
       " -0.004130873363465071,\n",
       " -0.006722544319927692,\n",
       " 0.0007954828324727714,\n",
       " -0.04736790060997009,\n",
       " 0.08599577099084854,\n",
       " -0.03937758132815361,\n",
       " -0.005002351477742195,\n",
       " 0.030058806762099266,\n",
       " 0.0639573335647583,\n",
       " -0.04019409790635109,\n",
       " -0.0443279854953289,\n",
       " -0.06208591163158417,\n",
       " 0.034470975399017334,\n",
       " 0.055254604667425156,\n",
       " -0.026577169075608253,\n",
       " -0.060505494475364685,\n",
       " -0.07025327533483505,\n",
       " -0.044134873896837234,\n",
       " 0.025288278236985207,\n",
       " 0.04263464733958244,\n",
       " 0.05344071239233017,\n",
       " 0.009575329720973969,\n",
       " 0.019629567861557007,\n",
       " 0.0418580137193203,\n",
       " -0.028054896742105484,\n",
       " -0.01853889785706997,\n",
       " 0.026118403300642967,\n",
       " 0.07601344585418701,\n",
       " -0.05227101221680641,\n",
       " 0.05418507009744644,\n",
       " -0.0839129388332367,\n",
       " -0.03172224014997482,\n",
       " 0.0642600879073143,\n",
       " 0.041050270199775696,\n",
       " 0.022699039429426193,\n",
       " 0.05932772159576416,\n",
       " -0.022160837426781654,\n",
       " 0.04500085860490799,\n",
       " -0.03587472438812256,\n",
       " -0.08835764974355698,\n",
       " -0.006810500752180815,\n",
       " 0.07573995739221573,\n",
       " -0.05077245458960533,\n",
       " -0.036760877817869186,\n",
       " -0.016970526427030563,\n",
       " -0.03753683343529701,\n",
       " 0.014962605200707912,\n",
       " -0.042236924171447754,\n",
       " -0.07549764961004257,\n",
       " -0.0053947120904922485,\n",
       " -0.006994002964347601,\n",
       " 0.05648335814476013,\n",
       " -0.03918616846203804,\n",
       " 0.0068266973830759525,\n",
       " 0.005603392142802477,\n",
       " -0.058248650282621384,\n",
       " -0.022833816707134247,\n",
       " -0.0005152362282387912,\n",
       " -0.01628349907696247,\n",
       " 0.01731046847999096,\n",
       " -0.0348161980509758,\n",
       " 0.07031473517417908,\n",
       " 0.06875447183847427,\n",
       " -0.06235373392701149,\n",
       " -0.003230599220842123,\n",
       " -0.11460145562887192,\n",
       " 0.024914737790822983,\n",
       " -0.010197468101978302,\n",
       " 0.013611366041004658,\n",
       " 0.041333820670843124,\n",
       " 0.0030973434913903475,\n",
       " -0.09138414263725281,\n",
       " -0.05362161993980408,\n",
       " -1.782278473574006e-33,\n",
       " 0.052326977252960205,\n",
       " 0.05813010782003403,\n",
       " -0.05394897609949112,\n",
       " 0.030650382861495018,\n",
       " -0.017708569765090942,\n",
       " 0.007664633449167013,\n",
       " -0.017279352992773056,\n",
       " 0.09240990877151489,\n",
       " 0.0022204231936484575,\n",
       " 0.03970512002706528,\n",
       " -0.002865533111616969,\n",
       " 0.023879004642367363,\n",
       " 0.11714404821395874,\n",
       " 0.021732265129685402,\n",
       " -0.08046042174100876,\n",
       " -0.014937590807676315,\n",
       " 0.11495181173086166,\n",
       " -0.006977197248488665,\n",
       " 0.013018635101616383,\n",
       " 0.031859174370765686,\n",
       " 0.005013364367187023,\n",
       " 0.05553217604756355,\n",
       " -0.06730101257562637,\n",
       " -0.00683240732178092,\n",
       " 0.0018941699527204037,\n",
       " 0.07429011166095734,\n",
       " 0.1044812798500061,\n",
       " 0.00021612194541376084,\n",
       " -0.08803015947341919,\n",
       " 0.06477760523557663,\n",
       " 0.08430550992488861,\n",
       " -0.004334107507020235,\n",
       " -0.10817843675613403,\n",
       " 0.07324331253767014,\n",
       " -0.06267673522233963,\n",
       " -0.060176439583301544,\n",
       " 0.04697028920054436,\n",
       " 0.04200098663568497,\n",
       " -0.0023835748434066772,\n",
       " -0.031431421637535095,\n",
       " -0.014519957825541496,\n",
       " 0.0373544804751873,\n",
       " 0.02774827927350998,\n",
       " 0.07456866651773453,\n",
       " -0.04089587926864624,\n",
       " -0.019651342183351517,\n",
       " -0.012082700617611408,\n",
       " 0.054062895476818085,\n",
       " -0.005586968269199133,\n",
       " -0.0349753312766552,\n",
       " 0.0007946515688672662,\n",
       " -0.0106942905113101,\n",
       " 0.050196439027786255,\n",
       " -0.09936533868312836,\n",
       " -0.020291952416300774,\n",
       " -0.020825209096074104,\n",
       " -0.020121371373534203,\n",
       " -0.04472824186086655,\n",
       " -0.012065391056239605,\n",
       " -0.05388008803129196,\n",
       " 0.04057833179831505,\n",
       " 0.028467323631048203,\n",
       " 0.04676482453942299,\n",
       " 0.07282848656177521,\n",
       " 0.03025848977267742,\n",
       " -0.03199644759297371,\n",
       " 0.05386592447757721,\n",
       " 0.08992937952280045,\n",
       " 0.039632152765989304,\n",
       " -0.11746145784854889,\n",
       " -0.04842335358262062,\n",
       " -0.08061643689870834,\n",
       " -0.06951914727687836,\n",
       " -0.026855215430259705,\n",
       " -0.008104200474917889,\n",
       " 0.05294642224907875,\n",
       " 0.027491489425301552,\n",
       " -0.044413551688194275,\n",
       " -0.04243692010641098,\n",
       " 0.03282448649406433,\n",
       " 0.024654367938637733,\n",
       " -0.022507546469569206,\n",
       " -0.09492328763008118,\n",
       " -0.02304636873304844,\n",
       " 0.024777531623840332,\n",
       " 0.0023445053957402706,\n",
       " -0.017029067501425743,\n",
       " 0.036759279668331146,\n",
       " 0.03732319921255112,\n",
       " -0.010851535946130753,\n",
       " -0.05652809515595436,\n",
       " 0.04253938049077988,\n",
       " -0.04363645985722542,\n",
       " 0.008980938233435154,\n",
       " -0.0243711955845356,\n",
       " -2.2175235869781318e-08,\n",
       " -0.08366698771715164,\n",
       " -0.0069290269166231155,\n",
       " -0.029910508543252945,\n",
       " 0.03676082193851471,\n",
       " 0.022096101194620132,\n",
       " 0.03083099238574505,\n",
       " 0.04587329551577568,\n",
       " -0.0708479955792427,\n",
       " -0.021527200937271118,\n",
       " 0.03596007078886032,\n",
       " 0.013450692407786846,\n",
       " 0.11255671828985214,\n",
       " -0.03304773569107056,\n",
       " 0.016984660178422928,\n",
       " 0.05915883556008339,\n",
       " 0.03511909395456314,\n",
       " 0.0027426276355981827,\n",
       " -0.0655912384390831,\n",
       " -0.03842880204319954,\n",
       " -0.08561669290065765,\n",
       " 0.08136612921953201,\n",
       " 0.028915923088788986,\n",
       " 0.012970106676220894,\n",
       " 0.014083934016525745,\n",
       " -0.029538562521338463,\n",
       " 0.06923617422580719,\n",
       " -0.0449628010392189,\n",
       " 0.020003119483590126,\n",
       " -0.05036206170916557,\n",
       " -0.026465503498911858,\n",
       " 0.00894963275641203,\n",
       " 0.09997809678316116,\n",
       " -0.053849607706069946,\n",
       " -0.010070147924125195,\n",
       " -0.011226274073123932,\n",
       " 0.030050130560994148,\n",
       " -0.022458048537373543,\n",
       " -0.02248123474419117,\n",
       " 0.0327305942773819,\n",
       " 0.0048208534717559814,\n",
       " 0.0498303659260273,\n",
       " 0.07752323895692825,\n",
       " 0.037123553454875946,\n",
       " 0.04418165236711502,\n",
       " -0.014617260545492172,\n",
       " 0.05802440270781517,\n",
       " 0.06421110779047012,\n",
       " 0.034037619829177856,\n",
       " -0.00681673176586628,\n",
       " -0.0898364707827568,\n",
       " -0.09216362237930298,\n",
       " -0.04251015931367874,\n",
       " 0.03416871652007103,\n",
       " 0.0025544939562678337,\n",
       " 0.010720067657530308,\n",
       " 0.10539331287145615,\n",
       " -0.005199094768613577,\n",
       " 0.06137532740831375,\n",
       " -0.0029901794623583555,\n",
       " 0.02400103211402893,\n",
       " 0.16915099322795868,\n",
       " 0.05543167516589165,\n",
       " -0.007647138088941574,\n",
       " -0.012134089134633541]"
      ]
     },
     "execution_count": 38,
     "metadata": {},
     "output_type": "execute_result"
    }
   ],
   "source": [
    "query_result=embedding.embed_query(\"Hello world suji th\")\n",
    "print(\" length of sample vector embedding \",len(query_result))\n",
    "#query_result"
   ]
  },
  {
   "cell_type": "code",
   "execution_count": 55,
   "metadata": {},
   "outputs": [
    {
     "data": {
      "text/plain": [
       "True"
      ]
     },
     "execution_count": 55,
     "metadata": {},
     "output_type": "execute_result"
    }
   ],
   "source": [
    "from pinecone.grpc import PineconeGRPC as Pinecone\n",
    "from pinecone import ServerlessSpec\n",
    "import os\n",
    "from  dotenv import load_dotenv\n",
    "load_dotenv()\n"
   ]
  },
  {
   "cell_type": "code",
   "execution_count": 59,
   "metadata": {},
   "outputs": [],
   "source": [
    "PINECONE_API_KEY =os.getenv('PINECONE_API_KEY')\n",
    "os.environ['PINECONE_API_KEY']=PINECONE_API_KEY\n",
    "\n",
    "pc = Pinecone(api_key=PINECONE_API_KEY)"
   ]
  },
  {
   "cell_type": "code",
   "execution_count": 57,
   "metadata": {},
   "outputs": [],
   "source": [
    "index_name = \"medical-bot-index\"\n",
    "\n",
    "pc.create_index(\n",
    "    name=index_name,\n",
    "    dimension=384, # Replace with your model dimensions\n",
    "    metric=\"cosine\", # Replace with your model metric\n",
    "    spec=ServerlessSpec(\n",
    "        cloud=\"aws\",\n",
    "        region=\"us-east-1\"\n",
    "    ) \n",
    ")"
   ]
  },
  {
   "cell_type": "code",
   "execution_count": 61,
   "metadata": {},
   "outputs": [],
   "source": [
    "from langchain_pinecone import PineconeVectorStore\n",
    "#Embed each chunk and  insert the mebedding to your Pinecone index\n",
    "docsearch=PineconeVectorStore.from_documents(\n",
    "    documents=text_chunks,\n",
    "    index_name=index_name,\n",
    "    embedding=embedding\n",
    "\n",
    ")"
   ]
  },
  {
   "cell_type": "code",
   "execution_count": 62,
   "metadata": {},
   "outputs": [],
   "source": [
    "#Load Existing index\n",
    "from langchain_pinecone import PineconeVectorStore\n",
    "#Embed each chunk and  insert the mebedding to your Pinecone index\n",
    "docsearch=PineconeVectorStore.from_existing_index(\n",
    "    index_name=index_name,\n",
    "    embedding=embedding\n",
    "\n",
    ")"
   ]
  },
  {
   "cell_type": "code",
   "execution_count": 63,
   "metadata": {},
   "outputs": [],
   "source": [
    "retriver=docsearch.as_retriever(search_type=\"similarity\",search_kwargs={\"k\":3})"
   ]
  },
  {
   "cell_type": "code",
   "execution_count": 65,
   "metadata": {},
   "outputs": [],
   "source": [
    "retriever_dcos=retriver.invoke('What is herniya')"
   ]
  },
  {
   "cell_type": "code",
   "execution_count": 69,
   "metadata": {},
   "outputs": [
    {
     "data": {
      "text/plain": [
       "str"
      ]
     },
     "execution_count": 69,
     "metadata": {},
     "output_type": "execute_result"
    }
   ],
   "source": [
    "type(retriever_dcos[0].page_content)"
   ]
  },
  {
   "cell_type": "code",
   "execution_count": 73,
   "metadata": {},
   "outputs": [],
   "source": [
    "from langchain_openai import OpenAI\n",
    "load_dotenv()\n",
    "OPENAI_API_KEY=os.getenv('OPENAI_API_KEY')\n",
    "os.environ['OPENAI_API_KEY']=OPENAI_API_KEY\n",
    "llm=OpenAI(temperature=0.4,max_tokens=500)"
   ]
  },
  {
   "cell_type": "code",
   "execution_count": 75,
   "metadata": {},
   "outputs": [],
   "source": [
    "#RAG\n",
    "from langchain.chains import create_retrieval_chain\n",
    "from langchain.chains.combine_documents import create_stuff_documents_chain\n",
    "from langchain_core.prompts import ChatPromptTemplate\n",
    "\n",
    "system_prompt=(\n",
    "    \"You are teh assistant for question -answering task.\"\n",
    "    \"Use the following piece of retrieved context to answer\"\n",
    "    \" teh questions.I f you dont know the answer , say that you \\dont know.Use three sentence maximum and keep the answer concise.\"\n",
    "    \"\\n\\n\"\n",
    "    \"{context}\"\n",
    ")\n",
    "\n",
    "prompt=ChatPromptTemplate.from_messages(\n",
    "    [\n",
    "        (\"system\",system_prompt),\n",
    "        (\"human\",\"{input}\")\n",
    "    ]\n",
    ")\n",
    "\n"
   ]
  },
  {
   "cell_type": "code",
   "execution_count": 76,
   "metadata": {},
   "outputs": [],
   "source": [
    "question_answer_chain=create_stuff_documents_chain(llm,prompt)\n",
    "rag_chain=create_retrieval_chain(retriver,question_answer_chain)"
   ]
  },
  {
   "cell_type": "code",
   "execution_count": 79,
   "metadata": {},
   "outputs": [
    {
     "name": "stdout",
     "output_type": "stream",
     "text": [
      "\n",
      "\n",
      "Hepatitis is a medical condition that involves inflammation of the liver. It can be caused by various infectious or toxic agents and is characterized by symptoms such as jaundice, fever, liver enlargement, and abdominal pain.\n"
     ]
    }
   ],
   "source": [
    "response=rag_chain.invoke({\"input\":\"what is hepatitis?\"})\n",
    "print(response[\"answer\"])"
   ]
  },
  {
   "cell_type": "code",
   "execution_count": 81,
   "metadata": {},
   "outputs": [
    {
     "name": "stdout",
     "output_type": "stream",
     "text": [
      "\n",
      "\n",
      "I don't know.\n"
     ]
    }
   ],
   "source": [
    "response=rag_chain.invoke({\"input\":\"what is cosine?\"})\n",
    "print(response[\"answer\"])"
   ]
  }
 ],
 "metadata": {
  "kernelspec": {
   "display_name": "medicalbot",
   "language": "python",
   "name": "python3"
  },
  "language_info": {
   "codemirror_mode": {
    "name": "ipython",
    "version": 3
   },
   "file_extension": ".py",
   "mimetype": "text/x-python",
   "name": "python",
   "nbconvert_exporter": "python",
   "pygments_lexer": "ipython3",
   "version": "3.11.5"
  }
 },
 "nbformat": 4,
 "nbformat_minor": 2
}
